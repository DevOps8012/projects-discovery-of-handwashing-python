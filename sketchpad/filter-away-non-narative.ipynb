{
 "cells": [
  {
   "cell_type": "code",
   "execution_count": 35,
   "metadata": {
    "collapsed": true
   },
   "outputs": [],
   "source": [
    "fname = \"discovery-of-handwashing-python.ipynb\"\n",
    "tags_to_remove = [\"@tests\", \"@instructions\", \"@sample_code\", \"@hint\"]"
   ]
  },
  {
   "cell_type": "code",
   "execution_count": 39,
   "metadata": {},
   "outputs": [
    {
     "name": "stdout",
     "output_type": "stream",
     "text": [
      "Cells before filtering: 26\n"
     ]
    }
   ],
   "source": [
    "import nbformat as nbf\n",
    "nb = nbf.read(fname, 4)\n",
    "print(\"Cells before filtering:\", len(nb.cells))"
   ]
  },
  {
   "cell_type": "code",
   "execution_count": 40,
   "metadata": {},
   "outputs": [
    {
     "name": "stdout",
     "output_type": "stream",
     "text": [
      "Cells after filtering: 18\n"
     ]
    }
   ],
   "source": [
    "cells_to_keep = [cell for cell in nb[\"cells\"] if not any(tag in tags_to_remove for tag in cell.metadata.get(\"tags\", [])) ]\n",
    "nb.cells = cells_to_keep\n",
    "print(\"Cells after filtering:\", len(nb.cells))"
   ]
  },
  {
   "cell_type": "code",
   "execution_count": 44,
   "metadata": {},
   "outputs": [],
   "source": [
    "out_fname = fname.replace(\".ipynb\", \"_only-narrative.ipynb\")\n",
    "nbf.write(nb, out_fname)"
   ]
  },
  {
   "cell_type": "code",
   "execution_count": null,
   "metadata": {
    "collapsed": true
   },
   "outputs": [],
   "source": []
  }
 ],
 "metadata": {
  "kernelspec": {
   "display_name": "Python 3",
   "language": "python",
   "name": "python3"
  },
  "language_info": {
   "codemirror_mode": {
    "name": "ipython",
    "version": 3
   },
   "file_extension": ".py",
   "mimetype": "text/x-python",
   "name": "python",
   "nbconvert_exporter": "python",
   "pygments_lexer": "ipython3",
   "version": "3.6.2"
  }
 },
 "nbformat": 4,
 "nbformat_minor": 2
}
